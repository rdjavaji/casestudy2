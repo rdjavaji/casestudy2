{
 "cells": [
  {
   "cell_type": "code",
   "execution_count": 0,
   "metadata": {
    "application/vnd.databricks.v1+cell": {
     "cellMetadata": {
      "byteLimit": 2048000,
      "rowLimit": 10000
     },
     "inputWidgets": {},
     "nuid": "713d5b4b-8321-4ef0-b1bf-166b11036a7f",
     "showTitle": false,
     "tableResultSettingsMap": {},
     "title": ""
    }
   },
   "outputs": [],
   "source": [
    "spark.conf.set(\n",
    "\"fs.azure.account.key.mystoragecase2.dfs.core.windows.net\",\n",
    "\"9sj4H6ECOyNfakffX828qy5kG0ERuqiAwEAWks6wotbyDhh==================================================\")"
   ]
  },
  {
   "cell_type": "code",
   "execution_count": 0,
   "metadata": {
    "application/vnd.databricks.v1+cell": {
     "cellMetadata": {
      "byteLimit": 2048000,
      "rowLimit": 10000
     },
     "inputWidgets": {},
     "nuid": "155b18b3-41ee-4d93-959d-41b3a0e4d089",
     "showTitle": false,
     "tableResultSettingsMap": {},
     "title": ""
    }
   },
   "outputs": [
    {
     "output_type": "display_data",
     "data": {
      "text/html": [
       "<style scoped>\n",
       "  .table-result-container {\n",
       "    max-height: 300px;\n",
       "    overflow: auto;\n",
       "  }\n",
       "  table, th, td {\n",
       "    border: 1px solid black;\n",
       "    border-collapse: collapse;\n",
       "  }\n",
       "  th, td {\n",
       "    padding: 5px;\n",
       "  }\n",
       "  th {\n",
       "    text-align: left;\n",
       "  }\n",
       "</style><div class='table-result-container'><table class='table-result'><thead style='background-color: white'><tr><th>path</th><th>name</th><th>size</th><th>modificationTime</th></tr></thead><tbody><tr><td>abfss://raw@mystoragecase2.dfs.core.windows.net/accounts.csv</td><td>accounts.csv</td><td>237</td><td>1733379096000</td></tr><tr><td>abfss://raw@mystoragecase2.dfs.core.windows.net/customers.csv</td><td>customers.csv</td><td>629</td><td>1733379096000</td></tr><tr><td>abfss://raw@mystoragecase2.dfs.core.windows.net/loan_payments.csv</td><td>loan_payments.csv</td><td>277</td><td>1733379096000</td></tr><tr><td>abfss://raw@mystoragecase2.dfs.core.windows.net/loans.csv</td><td>loans.csv</td><td>271</td><td>1733379096000</td></tr><tr><td>abfss://raw@mystoragecase2.dfs.core.windows.net/transactions.csv</td><td>transactions.csv</td><td>408</td><td>1733379096000</td></tr></tbody></table></div>"
      ]
     },
     "metadata": {
      "application/vnd.databricks.v1+output": {
       "addedWidgets": {},
       "aggData": [],
       "aggError": "",
       "aggOverflow": false,
       "aggSchema": [],
       "aggSeriesLimitReached": false,
       "aggType": "",
       "arguments": {},
       "columnCustomDisplayInfos": {},
       "data": [
        [
         "abfss://raw@mystoragecase2.dfs.core.windows.net/accounts.csv",
         "accounts.csv",
         237,
         1733379096000
        ],
        [
         "abfss://raw@mystoragecase2.dfs.core.windows.net/customers.csv",
         "customers.csv",
         629,
         1733379096000
        ],
        [
         "abfss://raw@mystoragecase2.dfs.core.windows.net/loan_payments.csv",
         "loan_payments.csv",
         277,
         1733379096000
        ],
        [
         "abfss://raw@mystoragecase2.dfs.core.windows.net/loans.csv",
         "loans.csv",
         271,
         1733379096000
        ],
        [
         "abfss://raw@mystoragecase2.dfs.core.windows.net/transactions.csv",
         "transactions.csv",
         408,
         1733379096000
        ]
       ],
       "datasetInfos": [],
       "dbfsResultPath": null,
       "isJsonSchema": true,
       "metadata": {},
       "overflow": false,
       "plotOptions": {
        "customPlotOptions": {},
        "displayType": "table",
        "pivotAggregation": null,
        "pivotColumns": null,
        "xColumns": null,
        "yColumns": null
       },
       "removedWidgets": [],
       "schema": [
        {
         "metadata": "{}",
         "name": "path",
         "type": "\"string\""
        },
        {
         "metadata": "{}",
         "name": "name",
         "type": "\"string\""
        },
        {
         "metadata": "{}",
         "name": "size",
         "type": "\"long\""
        },
        {
         "metadata": "{}",
         "name": "modificationTime",
         "type": "\"long\""
        }
       ],
       "type": "table"
      }
     },
     "output_type": "display_data"
    }
   ],
   "source": [
    "display(dbutils.fs.ls(\"abfss://raw@mystoragecase2.dfs.core.windows.net\"))"
   ]
  },
  {
   "cell_type": "code",
   "execution_count": 0,
   "metadata": {
    "application/vnd.databricks.v1+cell": {
     "cellMetadata": {
      "byteLimit": 2048000,
      "rowLimit": 10000
     },
     "inputWidgets": {},
     "nuid": "15a02082-1ffe-4d3d-9296-efa21c76e96a",
     "showTitle": false,
     "tableResultSettingsMap": {},
     "title": ""
    }
   },
   "outputs": [
    {
     "output_type": "stream",
     "name": "stdout",
     "output_type": "stream",
     "text": [
      "+----------+-----------+------------+-------+\n|account_id|customer_id|account_type|balance|\n+----------+-----------+------------+-------+\n|         1|          1|    Checking|   1000|\n|         2|          1|     Savings|   5000|\n|         3|          2|    Checking|   1500|\n|         4|          2|  Investment|   7500|\n|         5|          3|     Savings|   2000|\n+----------+-----------+------------+-------+\nonly showing top 5 rows\n\n+-----------+----------+---------+------------+-----------+-----+-----+\n|customer_id|first_name|last_name|     address|       city|state|  zip|\n+-----------+----------+---------+------------+-----------+-----+-----+\n|          1|      John|      Doe|  123 Elm St|Springfield|   IL|62701|\n|          2|      Jane|    Smith|  456 Oak St|    Chicago|   IL|60614|\n|          3|     Emily|  Johnson| 789 Pine St|     Dallas|   TX|75201|\n|          4|   Michael| Williams|101 Maple St|    Seattle|   WA|98101|\n|          5|     Sarah|    Brown|202 Birch St|   New York|   NY|10001|\n+-----------+----------+---------+------------+-----------+-----+-----+\nonly showing top 5 rows\n\n+----------+-------+------------+--------------+\n|payment_id|loan_id|payment_date|payment_amount|\n+----------+-------+------------+--------------+\n|         1|      1|  2024-01-15|        250.00|\n|         2|      1|  2024-02-15|        200.00|\n|         3|      2|  2024-01-20|        150.00|\n|         4|      2|  2024-02-20|        400.00|\n|         5|      3|  2024-01-25|        400.00|\n+----------+-------+------------+--------------+\nonly showing top 5 rows\n\n+-------+-----------+-----------+-------------+---------+\n|loan_id|customer_id|loan_amount|interest_rate|loan_term|\n+-------+-----------+-----------+-------------+---------+\n|      1|          1|    5000.00|         3.50|       12|\n|      2|          2|    7500.00|         4.00|       24|\n|      3|          3|    6000.00|         3.75|       18|\n|      4|          4|   10000.00|         4.25|       36|\n|      5|          5|   12000.00|         4.50|       48|\n+-------+-----------+-----------+-------------+---------+\nonly showing top 5 rows\n\n+--------------+----------+----------------+------------------+----------------+\n|transaction_id|account_id|transaction_date|transaction_amount|transaction_type|\n+--------------+----------+----------------+------------------+----------------+\n|             1|         1|      2024-09-01|            200.00|         Deposit|\n|             2|         1|      2024-09-03|           -100.00|      Withdrawal|\n|             3|         2|      2024-09-02|            300.00|         Deposit|\n|             4|         2|      2024-09-04|            -50.00|      Withdrawal|\n|             5|         3|      2024-09-05|            150.00|         Deposit|\n+--------------+----------+----------------+------------------+----------------+\nonly showing top 5 rows\n\n"
     ]
    }
   ],
   "source": [
    "from pyspark.sql import SparkSession\n",
    "spark = SparkSession.builder.appName(\"DataCleaning\").getOrCreate()\n",
    "\n",
    "# Read data from raw container\n",
    "accounts_df = spark.read.csv(\"abfss://raw@mystoragecase2.dfs.core.windows.net/accounts.csv\", header=True)\n",
    "customers_df = spark.read.csv(\"abfss://raw@mystoragecase2.dfs.core.windows.net/customers.csv\", header=True)\n",
    "loan_payments_df = spark.read.csv(\"abfss://raw@mystoragecase2.dfs.core.windows.net/loan_payments.csv\", header=True)\n",
    "loans_df = spark.read.csv(\"abfss://raw@mystoragecase2.dfs.core.windows.net/loans.csv\", header=True)\n",
    "transactions_df = spark.read.csv(\"abfss://raw@mystoragecase2.dfs.core.windows.net/transactions.csv\", header=True)\n",
    "\n",
    "accounts_df.show(5)\n",
    "customers_df.show(5)\n",
    "loan_payments_df.show(5)\n",
    "loans_df.show(5)\n",
    "transactions_df.show(5)"
   ]
  },
  {
   "cell_type": "code",
   "execution_count": 0,
   "metadata": {
    "application/vnd.databricks.v1+cell": {
     "cellMetadata": {
      "byteLimit": 2048000,
      "rowLimit": 10000
     },
     "inputWidgets": {},
     "nuid": "efa51fad-599f-42c7-bf1e-53a10d896d8b",
     "showTitle": false,
     "tableResultSettingsMap": {},
     "title": ""
    }
   },
   "outputs": [],
   "source": [
    "# Remove null values\n",
    "accounts_df = accounts_df.dropna()\n",
    "customers_df = customers_df.dropna()\n",
    "loan_payments_df = loan_payments_df.dropna()\n",
    "loans_df = loans_df.dropna()\n",
    "transactions_df = transactions_df.dropna()"
   ]
  },
  {
   "cell_type": "code",
   "execution_count": 0,
   "metadata": {
    "application/vnd.databricks.v1+cell": {
     "cellMetadata": {
      "byteLimit": 2048000,
      "rowLimit": 10000
     },
     "inputWidgets": {},
     "nuid": "d3909272-0aaa-40eb-8d8a-d91850e70463",
     "showTitle": false,
     "tableResultSettingsMap": {},
     "title": ""
    }
   },
   "outputs": [],
   "source": [
    "# Remove Duplicates\n",
    "accounts_df = accounts_df.dropDuplicates()\n",
    "customers_df = customers_df.dropDuplicates()\n",
    "loan_payments_df = loan_payments_df.dropDuplicates()\n",
    "loans_df = loans_df.dropDuplicates()\n",
    "transactions_df = transactions_df.dropDuplicates()"
   ]
  },
  {
   "cell_type": "code",
   "execution_count": 0,
   "metadata": {
    "application/vnd.databricks.v1+cell": {
     "cellMetadata": {
      "byteLimit": 2048000,
      "rowLimit": 10000
     },
     "inputWidgets": {},
     "nuid": "8c5a2f6b-3557-4da2-ad8c-b8c50f8f683c",
     "showTitle": false,
     "tableResultSettingsMap": {},
     "title": ""
    }
   },
   "outputs": [],
   "source": [
    "# Renaming the column name from zip to postal_code from customer file.\n",
    "customers_df = customers_df.withColumnRenamed(\"zip\", \"postal_code\")"
   ]
  },
  {
   "cell_type": "code",
   "execution_count": 0,
   "metadata": {
    "application/vnd.databricks.v1+cell": {
     "cellMetadata": {
      "byteLimit": 2048000,
      "rowLimit": 10000
     },
     "inputWidgets": {},
     "nuid": "a42839e7-4348-4cd6-880a-65ce32c5fb35",
     "showTitle": false,
     "tableResultSettingsMap": {},
     "title": ""
    }
   },
   "outputs": [
    {
     "output_type": "stream",
     "name": "stdout",
     "output_type": "stream",
     "text": [
      "root\n |-- customer_id: integer (nullable = true)\n |-- first_name: string (nullable = true)\n |-- last_name: string (nullable = true)\n |-- address: string (nullable = true)\n |-- city: string (nullable = true)\n |-- state: string (nullable = true)\n |-- postal_code: integer (nullable = true)\n\n+-----------+----------+---------+------------+-----------+-----+-----------+\n|customer_id|first_name|last_name|     address|       city|state|postal_code|\n+-----------+----------+---------+------------+-----------+-----+-----------+\n|          9|    Olivia|    Davis|  606 Fir St|     Boston|   MA|       2101|\n|          6|     David|    Jones|303 Cedar St|Los Angeles|   CA|      90001|\n|          5|     Sarah|    Brown|202 Birch St|   New York|   NY|      10001|\n|          2|      Jane|    Smith|  456 Oak St|    Chicago|   IL|      60614|\n|          3|     Emily|  Johnson| 789 Pine St|     Dallas|   TX|      75201|\n+-----------+----------+---------+------------+-----------+-----+-----------+\nonly showing top 5 rows\n\n"
     ]
    }
   ],
   "source": [
    "# Change data types for customer table Converting 'customer_id' and 'postal_code' to Integer\n",
    "\n",
    "from pyspark.sql import functions as F\n",
    "\n",
    "# Change data types for customer table Converting 'customer_id' and 'postal_code' to Integer\n",
    "\n",
    "customers_df = (customers_df\n",
    ".withColumn(\"customer_id\", F.col(\"customer_id\").cast(\"int\"))\n",
    ".withColumn(\"postal_code\", F.col(\"postal_code\").cast(\"int\"))\n",
    ")\n",
    "\n",
    "# Display the updated schema to verify changes\n",
    "\n",
    "customers_df.printSchema()\n",
    "\n",
    "# Display the updated schema to verify changes\n",
    "\n",
    "customers_df.show(5)"
   ]
  },
  {
   "cell_type": "code",
   "execution_count": 0,
   "metadata": {
    "application/vnd.databricks.v1+cell": {
     "cellMetadata": {
      "byteLimit": 2048000,
      "rowLimit": 10000
     },
     "inputWidgets": {},
     "nuid": "a22184c6-bd9c-44af-83ba-1f662764ef5a",
     "showTitle": false,
     "tableResultSettingsMap": {},
     "title": ""
    }
   },
   "outputs": [
    {
     "output_type": "stream",
     "name": "stdout",
     "output_type": "stream",
     "text": [
      "root\n |-- account_id: integer (nullable = true)\n |-- customer_id: integer (nullable = true)\n |-- account_type: string (nullable = true)\n |-- balance: double (nullable = true)\n\n+----------+-----------+------------+-------+\n|account_id|customer_id|account_type|balance|\n+----------+-----------+------------+-------+\n|         9|          7|  Investment| 8000.0|\n|         8|          6|     Savings| 6000.0|\n|         5|          3|     Savings| 2000.0|\n|         4|          2|  Investment| 7500.0|\n|         1|          1|    Checking| 1000.0|\n+----------+-----------+------------+-------+\nonly showing top 5 rows\n\n"
     ]
    }
   ],
   "source": [
    "# Change data types for accounts table Converting 'customer_id', 'account_id' to integer and 'balance' to double\n",
    "\n",
    "accounts_df = (accounts_df\n",
    ".withColumn(\"account_id\", F.col(\"account_id\").cast(\"int\"))\n",
    ".withColumn(\"customer_id\", F.col(\"customer_id\").cast(\"int\"))\n",
    ".withColumn(\"balance\", F.col(\"balance\").cast(\"double\"))\n",
    ")\n",
    "\n",
    "# Display the updated schema to verify changes\n",
    "\n",
    "accounts_df.printSchema()\n",
    "\n",
    "# Display the updated schema to verify changes\n",
    "\n",
    "accounts_df.show(5)"
   ]
  },
  {
   "cell_type": "code",
   "execution_count": 0,
   "metadata": {
    "application/vnd.databricks.v1+cell": {
     "cellMetadata": {
      "byteLimit": 2048000,
      "rowLimit": 10000
     },
     "inputWidgets": {},
     "nuid": "f8b4c76b-582c-4cb7-89e1-540df94f6a50",
     "showTitle": false,
     "tableResultSettingsMap": {},
     "title": ""
    }
   },
   "outputs": [
    {
     "output_type": "stream",
     "name": "stdout",
     "output_type": "stream",
     "text": [
      "root\n |-- payment_id: integer (nullable = true)\n |-- loan_id: integer (nullable = true)\n |-- payment_date: date (nullable = true)\n |-- payment_amount: double (nullable = true)\n\n+----------+-------+------------+--------------+\n|payment_id|loan_id|payment_date|payment_amount|\n+----------+-------+------------+--------------+\n|         9|      5|  2024-05-10|         400.0|\n|         3|      2|  2024-01-20|         150.0|\n|         8|      4|  2024-04-01|         200.0|\n|         1|      1|  2024-01-15|         250.0|\n|         5|      3|  2024-01-25|         400.0|\n+----------+-------+------------+--------------+\nonly showing top 5 rows\n\n"
     ]
    }
   ],
   "source": [
    "# Change data types for loan_payments table converting ‘payment_id’, ‘loan_id’ to Int and ‘payment_date’ to date and ‘payment_amount’ to double.\n",
    "\n",
    "loan_payments_df = (loan_payments_df\n",
    ".withColumn(\"payment_id\", F.col(\"payment_id\").cast(\"int\"))\n",
    ".withColumn(\"loan_id\", F.col(\"loan_id\").cast(\"int\"))\n",
    ".withColumn(\"payment_date\", F.to_date(F.col(\"payment_date\"), \"yyyy-MM-dd\"))\n",
    "\n",
    "# Adjust date format as needed\n",
    "\n",
    ".withColumn(\"payment_amount\", F.col(\"payment_amount\").cast(\"double\")) \n",
    ")\n",
    "\n",
    "# Display the updated schema to verify changes\n",
    "\n",
    "loan_payments_df.printSchema()\n",
    "\n",
    "# Display the updated schema to verify changes\n",
    "\n",
    "loan_payments_df.show(5)"
   ]
  },
  {
   "cell_type": "code",
   "execution_count": 0,
   "metadata": {
    "application/vnd.databricks.v1+cell": {
     "cellMetadata": {
      "byteLimit": 2048000,
      "rowLimit": 10000
     },
     "inputWidgets": {},
     "nuid": "d6e792a3-21e2-40b4-9fbf-b2d340f9d12d",
     "showTitle": false,
     "tableResultSettingsMap": {},
     "title": ""
    }
   },
   "outputs": [
    {
     "output_type": "stream",
     "name": "stdout",
     "output_type": "stream",
     "text": [
      "root\n |-- loan_id: integer (nullable = true)\n |-- customer_id: integer (nullable = true)\n |-- loan_amount: double (nullable = true)\n |-- interest_rate: double (nullable = true)\n |-- loan_term: integer (nullable = true)\n\n+-------+-----------+-----------+-------------+---------+\n|loan_id|customer_id|loan_amount|interest_rate|loan_term|\n+-------+-----------+-----------+-------------+---------+\n|      6|          6|     8000.0|          3.9|       24|\n|      7|          7|     9500.0|          4.1|       30|\n|      5|          5|    12000.0|          4.5|       48|\n|      3|          3|     6000.0|         3.75|       18|\n|      1|          1|     5000.0|          3.5|       12|\n+-------+-----------+-----------+-------------+---------+\nonly showing top 5 rows\n\n"
     ]
    }
   ],
   "source": [
    "# Change data types for loans table converting ‘loan_id’, ‘customer_id’ and ‘loan_term’ to Int and ‘loan_amount’, ‘interest_rate’ to double\n",
    "\n",
    "loans_df = (loans_df\n",
    ".withColumn(\"loan_id\", F.col(\"loan_id\").cast(\"int\"))\n",
    ".withColumn(\"customer_id\", F.col(\"customer_id\").cast(\"int\"))\n",
    ".withColumn(\"loan_amount\", F.col(\"loan_amount\").cast(\"double\"))\n",
    ".withColumn(\"interest_rate\", F.col(\"interest_rate\").cast(\"double\"))\n",
    ".withColumn(\"loan_term\", F.col(\"loan_term\").cast(\"int\"))\n",
    ")\n",
    "\n",
    "# Display the updated schema to verify changes\n",
    "\n",
    "loans_df.printSchema()\n",
    "\n",
    "# Display the updated schema to verify changes\n",
    "\n",
    "loans_df.show(5)"
   ]
  },
  {
   "cell_type": "code",
   "execution_count": 0,
   "metadata": {
    "application/vnd.databricks.v1+cell": {
     "cellMetadata": {
      "byteLimit": 2048000,
      "rowLimit": 10000
     },
     "inputWidgets": {},
     "nuid": "9e1cdc5c-0d30-4729-af68-0e4677af0aa3",
     "showTitle": false,
     "tableResultSettingsMap": {},
     "title": ""
    }
   },
   "outputs": [
    {
     "output_type": "stream",
     "name": "stdout",
     "output_type": "stream",
     "text": [
      "root\n |-- transaction_id: integer (nullable = true)\n |-- account_id: integer (nullable = true)\n |-- transaction_date: date (nullable = true)\n |-- transaction_amount: double (nullable = true)\n |-- transaction_type: string (nullable = true)\n\n+--------------+----------+----------------+------------------+----------------+\n|transaction_id|account_id|transaction_date|transaction_amount|transaction_type|\n+--------------+----------+----------------+------------------+----------------+\n|             4|         2|      2024-09-04|             -50.0|      Withdrawal|\n|             8|         6|      2024-09-08|            -300.0|      Withdrawal|\n|            10|         8|      2024-09-10|            -150.0|      Withdrawal|\n|             7|         5|      2024-09-07|             250.0|         Deposit|\n|             5|         3|      2024-09-05|             150.0|         Deposit|\n+--------------+----------+----------------+------------------+----------------+\nonly showing top 5 rows\n\n"
     ]
    }
   ],
   "source": [
    "# Change data types for transactions table converting ‘transaction_id’, ‘account_id’ and ‘transaction_date’ to Date and ‘trannsaction_amount’’ to double\n",
    "\n",
    "transactions_df = (transactions_df\n",
    ".withColumn(\"transaction_id\", F.col(\"transaction_id\").cast(\"int\"))\n",
    ".withColumn(\"account_id\", F.col(\"account_id\").cast(\"int\"))\n",
    ".withColumn(\"transaction_date\", F.to_date(F.col(\"transaction_date\"),\n",
    "\"yyyy-MM-dd\"))\n",
    ".withColumn(\"transaction_amount\",\n",
    "F.col(\"transaction_amount\").cast(\"double\"))\n",
    ")\n",
    "\n",
    "# Display the updated schema to verify changes\n",
    "\n",
    "transactions_df.printSchema()\n",
    "\n",
    "# Display the updated schema to verify changes\n",
    "\n",
    "transactions_df.show(5)"
   ]
  },
  {
   "cell_type": "code",
   "execution_count": 0,
   "metadata": {
    "application/vnd.databricks.v1+cell": {
     "cellMetadata": {
      "byteLimit": 2048000,
      "rowLimit": 10000
     },
     "inputWidgets": {},
     "nuid": "9409581e-19cf-4a0c-9599-6717800d303e",
     "showTitle": false,
     "tableResultSettingsMap": {},
     "title": ""
    }
   },
   "outputs": [],
   "source": [
    "# Define the paths to the Silver container\n",
    "\n",
    "silver_accounts = \"abfss://silver@mystoragecase2.dfs.core.windows.net/delta/accounts_delta\"\n",
    "\n",
    "silver_customers = \"abfss://silver@mystoragecase2.dfs.core.windows.net/delta/customers_delta\"\n",
    "\n",
    "silver_loan_payments = \"abfss://silver@mystoragecase2.dfs.core.windows.net/delta/loan_payments_delta\"\n",
    "\n",
    "silver_loans = \"abfss://silver@mystoragecase2.dfs.core.windows.net/delta/loans_delta\"\n",
    "\n",
    "silver_transactions = \"abfss://silver@mystoragecase2.dfs.core.windows.net/delta/transactions_delta\""
   ]
  },
  {
   "cell_type": "code",
   "execution_count": 0,
   "metadata": {
    "application/vnd.databricks.v1+cell": {
     "cellMetadata": {
      "byteLimit": 2048000,
      "rowLimit": 10000
     },
     "inputWidgets": {},
     "nuid": "19957c52-6ebd-4628-8666-8b123a1926ae",
     "showTitle": false,
     "tableResultSettingsMap": {},
     "title": ""
    }
   },
   "outputs": [],
   "source": [
    "# Write the cleaned data back to the Silver container\n",
    "\n",
    "accounts_df.write.format(\"delta\").mode(\"append\").save(silver_accounts)\n",
    "customers_df.write.format(\"delta\").mode(\"append\").save(silver_customers)\n",
    "loan_payments_df.write.format(\"delta\").mode(\"append\").save(silver_loan_payments)\n",
    "loans_df.write.format(\"delta\").mode(\"append\").save(silver_loans)\n",
    "transactions_df.write.format(\"delta\").mode(\"append\").save(silver_transactions)"
   ]
  },
  {
   "cell_type": "code",
   "execution_count": 0,
   "metadata": {
    "application/vnd.databricks.v1+cell": {
     "cellMetadata": {
      "byteLimit": 2048000,
      "rowLimit": 10000
     },
     "inputWidgets": {},
     "nuid": "085db180-85cb-4928-806e-3e1d1ba7725c",
     "showTitle": false,
     "tableResultSettingsMap": {},
     "title": ""
    }
   },
   "outputs": [],
   "source": [
    "# Define the paths to the Silver container\n",
    "\n",
    "silver_accounts = \"abfss://silver@mystoragecase2.dfs.core.windows.net/delta/accounts_delta\"\n",
    "\n",
    "silver_customers = \"abfss://silver@mystoragecase2.dfs.core.windows.net/delta/customers_delta\"\n",
    "\n",
    "silver_loan_payments = \"abfss://silver@mystoragecase2.dfs.core.windows.net/delta/loan_payments_delta\"\n",
    "\n",
    "silver_loans = \"abfss://silver@mystoragecase2.dfs.core.windows.net/delta/loans_delta\"\n",
    "\n",
    "silver_transactions = \"abfss://silver@mystoragecase2.dfs.core.windows.net/delta/transactions_delta\"\n",
    "\n",
    "silver_delta = \"abfss://silver@mystoragecase2.dfs.core.windows.net/delta/silver_delta\""
   ]
  },
  {
   "cell_type": "code",
   "execution_count": 0,
   "metadata": {
    "application/vnd.databricks.v1+cell": {
     "cellMetadata": {
      "byteLimit": 2048000,
      "rowLimit": 10000
     },
     "inputWidgets": {},
     "nuid": "8e88a6a3-7db0-4129-927c-00d96a8a8b96",
     "showTitle": false,
     "tableResultSettingsMap": {},
     "title": ""
    }
   },
   "outputs": [],
   "source": [
    "spark.conf.set(\n",
    "\"fs.azure.account.key.mystoragecase2.dfs.core.windows.net\",\n",
    "\"9sj4H6ECOyNfakffX828qy5kG0ERuqiAwEAWks6wotbyDhh================================================\")\n",
    "\n",
    "# Read Data from Silver Container:\n",
    "accounts_df = spark.read.format(\"delta\").load(\"abfss://silver@mystoragecase2.dfs.core.windows.net/delta/accounts_delta\")\n",
    "customers_df = spark.read.format(\"delta\").load(\"abfss://silver@mystoragecase2.dfs.core.windows.net/delta/customers_delta\")\n",
    "loan_payments_df = spark.read.format(\"delta\").load(\"abfss://silver@mystoragecase2.dfs.core.windows.net/delta/loan_payments_delta\")\n",
    "loans_df = spark.read.format(\"delta\").load(\"abfss://silver@mystoragecase2.dfs.core.windows.net/delta/loans_delta\")\n",
    "transactions_df = spark.read.format(\"delta\").load(\"abfss://silver@mystoragecase2.dfs.core.windows.net/delta/transactions_delta\")"
   ]
  },
  {
   "cell_type": "code",
   "execution_count": 0,
   "metadata": {
    "application/vnd.databricks.v1+cell": {
     "cellMetadata": {
      "byteLimit": 2048000,
      "rowLimit": 10000
     },
     "inputWidgets": {},
     "nuid": "7fe9e9b3-fc34-4731-94eb-559f44f9c2c1",
     "showTitle": false,
     "tableResultSettingsMap": {},
     "title": ""
    }
   },
   "outputs": [
    {
     "output_type": "stream",
     "name": "stdout",
     "output_type": "stream",
     "text": [
      "2\n== Parsed Logical Plan ==\n'Aggregate ['account_id], ['account_id, 'sum('transaction_amount) AS total_transactions#5374]\n+- RepartitionByExpression [account_id#5338], 10\n   +- Relation [transaction_id#5337,account_id#5338,transaction_date#5339,transaction_amount#5340,transaction_type#5341] parquet\n\n== Analyzed Logical Plan ==\naccount_id: int, total_transactions: double\nAggregate [account_id#5338], [account_id#5338, sum(transaction_amount#5340) AS total_transactions#5374]\n+- RepartitionByExpression [account_id#5338], 10\n   +- Relation [transaction_id#5337,account_id#5338,transaction_date#5339,transaction_amount#5340,transaction_type#5341] parquet\n\n== Optimized Logical Plan ==\nAggregate [account_id#5338], [account_id#5338, sum(transaction_amount#5340) AS total_transactions#5374]\n+- RepartitionByExpression [account_id#5338], 10\n   +- Project [account_id#5338, transaction_amount#5340]\n      +- Relation [transaction_id#5337,account_id#5338,transaction_date#5339,transaction_amount#5340,transaction_type#5341] parquet\n\n== Physical Plan ==\nAdaptiveSparkPlan isFinalPlan=false\n+- == Initial Plan ==\n   ColumnarToRow\n   +- PhotonResultStage\n      +- PhotonGroupingAgg(limit=None, keys=[account_id#5338], functions=[sum(transaction_amount#5340)], output=[account_id#5338, total_transactions#5374])\n         +- PhotonShuffleExchangeSource\n            +- PhotonShuffleMapStage\n               +- PhotonShuffleExchangeSink hashpartitioning(account_id#5338, 10)\n                  +- PhotonScan parquet [account_id#5338,transaction_amount#5340] DataFilters: [], DictionaryFilters: [], Format: parquet, Location: PreparedDeltaFileIndex(1 paths)[abfss://silver@mystoragecase2.dfs.core.windows.net/delta/transact..., OptionalDataFilters: [], PartitionFilters: [], ReadSchema: struct<account_id:int,transaction_amount:double>, RequiredDataFilters: []\n\n== Photon Explanation ==\nThe query is fully supported by Photon.\n"
     ]
    }
   ],
   "source": [
    "# TROUBLESHOOT PARTITION Data Shuffling with groupBy()\n",
    "\n",
    "from pyspark.sql.functions import sum as _sum\n",
    "\n",
    "# Example of a `groupBy()` operation in PySpark\n",
    "transactions_grouped = transactions_df.groupBy(\"account_id\").agg(\n",
    "    _sum(\"transaction_amount\").alias(\"total_transactions\")\n",
    ")\n",
    "\n",
    "# Check the current number of partitions\n",
    "print(transactions_df.rdd.getNumPartitions())\n",
    "\n",
    "# Repartition data by `account_id` to minimize shuffling\n",
    "transactions_repartitioned = transactions_df.repartition(10, \"account_id\")\n",
    "\n",
    "# Perform the GroupBy and Aggregation\n",
    "transactions_grouped = transactions_repartitioned.groupBy(\"account_id\").agg(\n",
    "    _sum(\"transaction_amount\").alias(\"total_transactions\")\n",
    ")\n",
    "\n",
    "display(transactions_grouped.explain(True))"
   ]
  },
  {
   "cell_type": "code",
   "execution_count": 0,
   "metadata": {
    "application/vnd.databricks.v1+cell": {
     "cellMetadata": {
      "byteLimit": 2048000,
      "rowLimit": 10000
     },
     "inputWidgets": {},
     "nuid": "d110934a-ee53-427b-a318-00771dae0c93",
     "showTitle": false,
     "tableResultSettingsMap": {},
     "title": ""
    }
   },
   "outputs": [
    {
     "output_type": "display_data",
     "data": {
      "text/html": [
       "<style scoped>\n",
       "  .table-result-container {\n",
       "    max-height: 300px;\n",
       "    overflow: auto;\n",
       "  }\n",
       "  table, th, td {\n",
       "    border: 1px solid black;\n",
       "    border-collapse: collapse;\n",
       "  }\n",
       "  th, td {\n",
       "    padding: 5px;\n",
       "  }\n",
       "  th {\n",
       "    text-align: left;\n",
       "  }\n",
       "</style><div class='table-result-container'><table class='table-result'><thead style='background-color: white'><tr><th>account_id</th><th>total_transaction_amount</th></tr></thead><tbody><tr><td>1</td><td>200.0</td></tr><tr><td>6</td><td>-600.0</td></tr><tr><td>3</td><td>300.0</td></tr><tr><td>5</td><td>500.0</td></tr><tr><td>4</td><td>-400.0</td></tr><tr><td>8</td><td>-300.0</td></tr><tr><td>7</td><td>800.0</td></tr><tr><td>2</td><td>500.0</td></tr></tbody></table></div>"
      ]
     },
     "metadata": {
      "application/vnd.databricks.v1+output": {
       "addedWidgets": {},
       "aggData": [],
       "aggError": "",
       "aggOverflow": false,
       "aggSchema": [],
       "aggSeriesLimitReached": false,
       "aggType": "",
       "arguments": {},
       "columnCustomDisplayInfos": {},
       "data": [
        [
         1,
         200.0
        ],
        [
         6,
         -600.0
        ],
        [
         3,
         300.0
        ],
        [
         5,
         500.0
        ],
        [
         4,
         -400.0
        ],
        [
         8,
         -300.0
        ],
        [
         7,
         800.0
        ],
        [
         2,
         500.0
        ]
       ],
       "datasetInfos": [],
       "dbfsResultPath": null,
       "isJsonSchema": true,
       "metadata": {},
       "overflow": false,
       "plotOptions": {
        "customPlotOptions": {},
        "displayType": "table",
        "pivotAggregation": null,
        "pivotColumns": null,
        "xColumns": null,
        "yColumns": null
       },
       "removedWidgets": [],
       "schema": [
        {
         "metadata": "{}",
         "name": "account_id",
         "type": "\"integer\""
        },
        {
         "metadata": "{}",
         "name": "total_transaction_amount",
         "type": "\"double\""
        }
       ],
       "type": "table"
      }
     },
     "output_type": "display_data"
    }
   ],
   "source": [
    "#Identify Data Skew - group transactions by account_id and calculate the total transaction amount for each customer. As customers have many more transactions than others, this result in a skewed dataset.\n",
    "\n",
    "from pyspark.sql.functions import sum\n",
    "\n",
    "transactions_grouped = transactions_df.groupBy(\"account_id\").agg(\n",
    "    sum(\"transaction_amount\").alias(\"total_transaction_amount\")\n",
    ")\n",
    "display(transactions_grouped)"
   ]
  },
  {
   "cell_type": "code",
   "execution_count": 0,
   "metadata": {
    "application/vnd.databricks.v1+cell": {
     "cellMetadata": {
      "byteLimit": 2048000,
      "rowLimit": 10000
     },
     "inputWidgets": {},
     "nuid": "5cde20e2-dd6f-4b9a-ab7f-7aebd5652b5e",
     "showTitle": false,
     "tableResultSettingsMap": {},
     "title": ""
    }
   },
   "outputs": [
    {
     "output_type": "stream",
     "name": "stdout",
     "output_type": "stream",
     "text": [
      "10\n"
     ]
    },
    {
     "output_type": "display_data",
     "data": {
      "text/html": [
       "<style scoped>\n",
       "  .table-result-container {\n",
       "    max-height: 300px;\n",
       "    overflow: auto;\n",
       "  }\n",
       "  table, th, td {\n",
       "    border: 1px solid black;\n",
       "    border-collapse: collapse;\n",
       "  }\n",
       "  th, td {\n",
       "    padding: 5px;\n",
       "  }\n",
       "  th {\n",
       "    text-align: left;\n",
       "  }\n",
       "</style><div class='table-result-container'><table class='table-result'><thead style='background-color: white'><tr><th>salted_account_id</th><th>total_transaction_amount</th></tr></thead><tbody><tr><td>3</td><td>-50.0</td></tr><tr><td>8</td><td>-150.0</td></tr><tr><td>11</td><td>500.0</td></tr><tr><td>12</td><td>400.0</td></tr><tr><td>2</td><td>200.0</td></tr><tr><td>7</td><td>-400.0</td></tr><tr><td>13</td><td>-200.0</td></tr><tr><td>14</td><td>400.0</td></tr><tr><td>9</td><td>-350.0</td></tr><tr><td>6</td><td>400.0</td></tr><tr><td>16</td><td>400.0</td></tr><tr><td>17</td><td>-150.0</td></tr></tbody></table></div>"
      ]
     },
     "metadata": {
      "application/vnd.databricks.v1+output": {
       "addedWidgets": {},
       "aggData": [],
       "aggError": "",
       "aggOverflow": false,
       "aggSchema": [],
       "aggSeriesLimitReached": false,
       "aggType": "",
       "arguments": {},
       "columnCustomDisplayInfos": {},
       "data": [
        [
         3,
         -50.0
        ],
        [
         8,
         -150.0
        ],
        [
         11,
         500.0
        ],
        [
         12,
         400.0
        ],
        [
         2,
         200.0
        ],
        [
         7,
         -400.0
        ],
        [
         13,
         -200.0
        ],
        [
         14,
         400.0
        ],
        [
         9,
         -350.0
        ],
        [
         6,
         400.0
        ],
        [
         16,
         400.0
        ],
        [
         17,
         -150.0
        ]
       ],
       "datasetInfos": [],
       "dbfsResultPath": null,
       "isJsonSchema": true,
       "metadata": {},
       "overflow": false,
       "plotOptions": {
        "customPlotOptions": {},
        "displayType": "table",
        "pivotAggregation": null,
        "pivotColumns": null,
        "xColumns": null,
        "yColumns": null
       },
       "removedWidgets": [],
       "schema": [
        {
         "metadata": "{}",
         "name": "salted_account_id",
         "type": "\"integer\""
        },
        {
         "metadata": "{}",
         "name": "total_transaction_amount",
         "type": "\"double\""
        }
       ],
       "type": "table"
      }
     },
     "output_type": "display_data"
    }
   ],
   "source": [
    "# Salting \n",
    "\n",
    "from pyspark.sql.functions import col, rand, sum\n",
    "\n",
    "# Step 1: Add a random number (salt) to the account_id\n",
    "salted_transactions_df = transactions_df.withColumn(\n",
    "    \"salted_account_id\", \n",
    "    (col(\"account_id\") + (rand() * 10).cast(\"int\"))  # Adding random number between 0 and 9\n",
    ")\n",
    "\n",
    "# Step 2: Repartition the DataFrame based on the salted account_id\n",
    "salted_transactions_repartitioned = salted_transactions_df.repartition(10, \"salted_account_id\")\n",
    "\n",
    "# Verify the number of partitions\n",
    "print(salted_transactions_repartitioned.rdd.getNumPartitions())\n",
    "\n",
    "# Step 3: Perform aggregation after salting (example: summing transactions per account_id)\n",
    "transactions_grouped_salted = salted_transactions_repartitioned.groupBy(\"salted_account_id\").agg(\n",
    "    sum(\"transaction_amount\").alias(\"total_transaction_amount\")\n",
    ")\n",
    "\n",
    "display(transactions_grouped_salted)"
   ]
  },
  {
   "cell_type": "code",
   "execution_count": 0,
   "metadata": {
    "application/vnd.databricks.v1+cell": {
     "cellMetadata": {
      "byteLimit": 2048000,
      "rowLimit": 10000
     },
     "inputWidgets": {},
     "nuid": "20780689-5bc2-43f0-9a41-8b61f2d83f12",
     "showTitle": false,
     "tableResultSettingsMap": {},
     "title": ""
    }
   },
   "outputs": [
    {
     "output_type": "display_data",
     "data": {
      "text/html": [
       "<style scoped>\n",
       "  .table-result-container {\n",
       "    max-height: 300px;\n",
       "    overflow: auto;\n",
       "  }\n",
       "  table, th, td {\n",
       "    border: 1px solid black;\n",
       "    border-collapse: collapse;\n",
       "  }\n",
       "  th, td {\n",
       "    padding: 5px;\n",
       "  }\n",
       "  th {\n",
       "    text-align: left;\n",
       "  }\n",
       "</style><div class='table-result-container'><table class='table-result'><thead style='background-color: white'><tr><th>transaction_id</th><th>account_id</th><th>transaction_date</th><th>transaction_amount</th><th>transaction_type</th><th>salted_customer_id</th><th>customer_id</th><th>first_name</th><th>last_name</th><th>address</th><th>city</th><th>state</th><th>postal_code</th><th>salted_customer_id</th></tr></thead><tbody><tr><td>9</td><td>7</td><td>2024-09-09</td><td>400.0</td><td>Deposit</td><td>14</td><td>9</td><td>Olivia</td><td>Davis</td><td>606 Fir St</td><td>Boston</td><td>MA</td><td>2101</td><td>14</td></tr><tr><td>5</td><td>3</td><td>2024-09-05</td><td>150.0</td><td>Deposit</td><td>12</td><td>6</td><td>David</td><td>Jones</td><td>303 Cedar St</td><td>Los Angeles</td><td>CA</td><td>90001</td><td>12</td></tr><tr><td>5</td><td>3</td><td>2024-09-05</td><td>150.0</td><td>Deposit</td><td>12</td><td>5</td><td>Sarah</td><td>Brown</td><td>202 Birch St</td><td>New York</td><td>NY</td><td>10001</td><td>12</td></tr><tr><td>1</td><td>1</td><td>2024-09-01</td><td>200.0</td><td>Deposit</td><td>7</td><td>2</td><td>Jane</td><td>Smith</td><td>456 Oak St</td><td>Chicago</td><td>IL</td><td>60614</td><td>7</td></tr><tr><td>7</td><td>5</td><td>2024-09-07</td><td>250.0</td><td>Deposit</td><td>5</td><td>3</td><td>Emily</td><td>Johnson</td><td>789 Pine St</td><td>Dallas</td><td>TX</td><td>75201</td><td>5</td></tr><tr><td>8</td><td>6</td><td>2024-09-08</td><td>-300.0</td><td>Withdrawal</td><td>11</td><td>7</td><td>Laura</td><td>Garcia</td><td>404 Willow St</td><td>San Francisco</td><td>CA</td><td>94101</td><td>11</td></tr><tr><td>3</td><td>2</td><td>2024-09-02</td><td>300.0</td><td>Deposit</td><td>10</td><td>8</td><td>James</td><td>Martinez</td><td>505 Redwood St</td><td>Houston</td><td>TX</td><td>77001</td><td>10</td></tr><tr><td>6</td><td>4</td><td>2024-09-06</td><td>-200.0</td><td>Withdrawal</td><td>6</td><td>4</td><td>Michael</td><td>Williams</td><td>101 Maple St</td><td>Seattle</td><td>WA</td><td>98101</td><td>6</td></tr><tr><td>9</td><td>7</td><td>2024-09-09</td><td>400.0</td><td>Deposit</td><td>14</td><td>11</td><td>Andy</td><td>Josheny</td><td>123 yulm St</td><td>Chicago</td><td>IL</td><td>627098</td><td>14</td></tr><tr><td>5</td><td>3</td><td>2024-09-05</td><td>150.0</td><td>Deposit</td><td>12</td><td>10</td><td>Daniel</td><td>Rodriguez</td><td>707 Spruce St</td><td>Philadelphia</td><td>PA</td><td>19101</td><td>12</td></tr><tr><td>10</td><td>8</td><td>2024-09-10</td><td>-150.0</td><td>Withdrawal</td><td>14</td><td>9</td><td>Olivia</td><td>Davis</td><td>606 Fir St</td><td>Boston</td><td>MA</td><td>2101</td><td>14</td></tr><tr><td>4</td><td>2</td><td>2024-09-04</td><td>-50.0</td><td>Withdrawal</td><td>7</td><td>2</td><td>Jane</td><td>Smith</td><td>456 Oak St</td><td>Chicago</td><td>IL</td><td>60614</td><td>7</td></tr><tr><td>5</td><td>3</td><td>2024-09-05</td><td>150.0</td><td>Deposit</td><td>10</td><td>8</td><td>James</td><td>Martinez</td><td>505 Redwood St</td><td>Houston</td><td>TX</td><td>77001</td><td>10</td></tr><tr><td>10</td><td>8</td><td>2024-09-10</td><td>-150.0</td><td>Withdrawal</td><td>14</td><td>11</td><td>Andy</td><td>Josheny</td><td>123 yulm St</td><td>Chicago</td><td>IL</td><td>627098</td><td>14</td></tr><tr><td>4</td><td>2</td><td>2024-09-04</td><td>-50.0</td><td>Withdrawal</td><td>10</td><td>8</td><td>James</td><td>Martinez</td><td>505 Redwood St</td><td>Houston</td><td>TX</td><td>77001</td><td>10</td></tr><tr><td>9</td><td>7</td><td>2024-09-09</td><td>400.0</td><td>Deposit</td><td>14</td><td>9</td><td>Olivia</td><td>Davis</td><td>606 Fir St</td><td>Boston</td><td>MA</td><td>2101</td><td>14</td></tr><tr><td>1</td><td>1</td><td>2024-09-01</td><td>200.0</td><td>Deposit</td><td>7</td><td>6</td><td>David</td><td>Jones</td><td>303 Cedar St</td><td>Los Angeles</td><td>CA</td><td>90001</td><td>7</td></tr><tr><td>1</td><td>1</td><td>2024-09-01</td><td>200.0</td><td>Deposit</td><td>7</td><td>5</td><td>Sarah</td><td>Brown</td><td>202 Birch St</td><td>New York</td><td>NY</td><td>10001</td><td>7</td></tr><tr><td>6</td><td>4</td><td>2024-09-06</td><td>-200.0</td><td>Withdrawal</td><td>6</td><td>2</td><td>Jane</td><td>Smith</td><td>456 Oak St</td><td>Chicago</td><td>IL</td><td>60614</td><td>6</td></tr><tr><td>2</td><td>1</td><td>2024-09-03</td><td>-100.0</td><td>Withdrawal</td><td>9</td><td>3</td><td>Emily</td><td>Johnson</td><td>789 Pine St</td><td>Dallas</td><td>TX</td><td>75201</td><td>9</td></tr><tr><td>2</td><td>1</td><td>2024-09-03</td><td>-100.0</td><td>Withdrawal</td><td>9</td><td>1</td><td>John</td><td>Doe</td><td>123 Elm St</td><td>Springfield</td><td>IL</td><td>62701</td><td>9</td></tr><tr><td>1</td><td>1</td><td>2024-09-01</td><td>200.0</td><td>Deposit</td><td>7</td><td>7</td><td>Laura</td><td>Garcia</td><td>404 Willow St</td><td>San Francisco</td><td>CA</td><td>94101</td><td>7</td></tr><tr><td>8</td><td>6</td><td>2024-09-08</td><td>-300.0</td><td>Withdrawal</td><td>11</td><td>8</td><td>James</td><td>Martinez</td><td>505 Redwood St</td><td>Houston</td><td>TX</td><td>77001</td><td>11</td></tr><tr><td>3</td><td>2</td><td>2024-09-02</td><td>300.0</td><td>Deposit</td><td>10</td><td>4</td><td>Michael</td><td>Williams</td><td>101 Maple St</td><td>Seattle</td><td>WA</td><td>98101</td><td>10</td></tr><tr><td>10</td><td>8</td><td>2024-09-10</td><td>-150.0</td><td>Withdrawal</td><td>14</td><td>9</td><td>Olivia</td><td>Davis</td><td>606 Fir St</td><td>Boston</td><td>MA</td><td>2101</td><td>14</td></tr><tr><td>4</td><td>2</td><td>2024-09-04</td><td>-50.0</td><td>Withdrawal</td><td>7</td><td>6</td><td>David</td><td>Jones</td><td>303 Cedar St</td><td>Los Angeles</td><td>CA</td><td>90001</td><td>7</td></tr><tr><td>4</td><td>2</td><td>2024-09-04</td><td>-50.0</td><td>Withdrawal</td><td>7</td><td>5</td><td>Sarah</td><td>Brown</td><td>202 Birch St</td><td>New York</td><td>NY</td><td>10001</td><td>7</td></tr><tr><td>4</td><td>2</td><td>2024-09-04</td><td>-50.0</td><td>Withdrawal</td><td>7</td><td>7</td><td>Laura</td><td>Garcia</td><td>404 Willow St</td><td>San Francisco</td><td>CA</td><td>94101</td><td>7</td></tr><tr><td>5</td><td>3</td><td>2024-09-05</td><td>150.0</td><td>Deposit</td><td>10</td><td>4</td><td>Michael</td><td>Williams</td><td>101 Maple St</td><td>Seattle</td><td>WA</td><td>98101</td><td>10</td></tr><tr><td>4</td><td>2</td><td>2024-09-04</td><td>-50.0</td><td>Withdrawal</td><td>10</td><td>4</td><td>Michael</td><td>Williams</td><td>101 Maple St</td><td>Seattle</td><td>WA</td><td>98101</td><td>10</td></tr></tbody></table></div>"
      ]
     },
     "metadata": {
      "application/vnd.databricks.v1+output": {
       "addedWidgets": {},
       "aggData": [],
       "aggError": "",
       "aggOverflow": false,
       "aggSchema": [],
       "aggSeriesLimitReached": false,
       "aggType": "",
       "arguments": {},
       "columnCustomDisplayInfos": {},
       "data": [
        [
         9,
         7,
         "2024-09-09",
         400.0,
         "Deposit",
         14,
         9,
         "Olivia",
         "Davis",
         "606 Fir St",
         "Boston",
         "MA",
         2101,
         14
        ],
        [
         5,
         3,
         "2024-09-05",
         150.0,
         "Deposit",
         12,
         6,
         "David",
         "Jones",
         "303 Cedar St",
         "Los Angeles",
         "CA",
         90001,
         12
        ],
        [
         5,
         3,
         "2024-09-05",
         150.0,
         "Deposit",
         12,
         5,
         "Sarah",
         "Brown",
         "202 Birch St",
         "New York",
         "NY",
         10001,
         12
        ],
        [
         1,
         1,
         "2024-09-01",
         200.0,
         "Deposit",
         7,
         2,
         "Jane",
         "Smith",
         "456 Oak St",
         "Chicago",
         "IL",
         60614,
         7
        ],
        [
         7,
         5,
         "2024-09-07",
         250.0,
         "Deposit",
         5,
         3,
         "Emily",
         "Johnson",
         "789 Pine St",
         "Dallas",
         "TX",
         75201,
         5
        ],
        [
         8,
         6,
         "2024-09-08",
         -300.0,
         "Withdrawal",
         11,
         7,
         "Laura",
         "Garcia",
         "404 Willow St",
         "San Francisco",
         "CA",
         94101,
         11
        ],
        [
         3,
         2,
         "2024-09-02",
         300.0,
         "Deposit",
         10,
         8,
         "James",
         "Martinez",
         "505 Redwood St",
         "Houston",
         "TX",
         77001,
         10
        ],
        [
         6,
         4,
         "2024-09-06",
         -200.0,
         "Withdrawal",
         6,
         4,
         "Michael",
         "Williams",
         "101 Maple St",
         "Seattle",
         "WA",
         98101,
         6
        ],
        [
         9,
         7,
         "2024-09-09",
         400.0,
         "Deposit",
         14,
         11,
         "Andy",
         "Josheny",
         "123 yulm St",
         "Chicago",
         "IL",
         627098,
         14
        ],
        [
         5,
         3,
         "2024-09-05",
         150.0,
         "Deposit",
         12,
         10,
         "Daniel",
         "Rodriguez",
         "707 Spruce St",
         "Philadelphia",
         "PA",
         19101,
         12
        ],
        [
         10,
         8,
         "2024-09-10",
         -150.0,
         "Withdrawal",
         14,
         9,
         "Olivia",
         "Davis",
         "606 Fir St",
         "Boston",
         "MA",
         2101,
         14
        ],
        [
         4,
         2,
         "2024-09-04",
         -50.0,
         "Withdrawal",
         7,
         2,
         "Jane",
         "Smith",
         "456 Oak St",
         "Chicago",
         "IL",
         60614,
         7
        ],
        [
         5,
         3,
         "2024-09-05",
         150.0,
         "Deposit",
         10,
         8,
         "James",
         "Martinez",
         "505 Redwood St",
         "Houston",
         "TX",
         77001,
         10
        ],
        [
         10,
         8,
         "2024-09-10",
         -150.0,
         "Withdrawal",
         14,
         11,
         "Andy",
         "Josheny",
         "123 yulm St",
         "Chicago",
         "IL",
         627098,
         14
        ],
        [
         4,
         2,
         "2024-09-04",
         -50.0,
         "Withdrawal",
         10,
         8,
         "James",
         "Martinez",
         "505 Redwood St",
         "Houston",
         "TX",
         77001,
         10
        ],
        [
         9,
         7,
         "2024-09-09",
         400.0,
         "Deposit",
         14,
         9,
         "Olivia",
         "Davis",
         "606 Fir St",
         "Boston",
         "MA",
         2101,
         14
        ],
        [
         1,
         1,
         "2024-09-01",
         200.0,
         "Deposit",
         7,
         6,
         "David",
         "Jones",
         "303 Cedar St",
         "Los Angeles",
         "CA",
         90001,
         7
        ],
        [
         1,
         1,
         "2024-09-01",
         200.0,
         "Deposit",
         7,
         5,
         "Sarah",
         "Brown",
         "202 Birch St",
         "New York",
         "NY",
         10001,
         7
        ],
        [
         6,
         4,
         "2024-09-06",
         -200.0,
         "Withdrawal",
         6,
         2,
         "Jane",
         "Smith",
         "456 Oak St",
         "Chicago",
         "IL",
         60614,
         6
        ],
        [
         2,
         1,
         "2024-09-03",
         -100.0,
         "Withdrawal",
         9,
         3,
         "Emily",
         "Johnson",
         "789 Pine St",
         "Dallas",
         "TX",
         75201,
         9
        ],
        [
         2,
         1,
         "2024-09-03",
         -100.0,
         "Withdrawal",
         9,
         1,
         "John",
         "Doe",
         "123 Elm St",
         "Springfield",
         "IL",
         62701,
         9
        ],
        [
         1,
         1,
         "2024-09-01",
         200.0,
         "Deposit",
         7,
         7,
         "Laura",
         "Garcia",
         "404 Willow St",
         "San Francisco",
         "CA",
         94101,
         7
        ],
        [
         8,
         6,
         "2024-09-08",
         -300.0,
         "Withdrawal",
         11,
         8,
         "James",
         "Martinez",
         "505 Redwood St",
         "Houston",
         "TX",
         77001,
         11
        ],
        [
         3,
         2,
         "2024-09-02",
         300.0,
         "Deposit",
         10,
         4,
         "Michael",
         "Williams",
         "101 Maple St",
         "Seattle",
         "WA",
         98101,
         10
        ],
        [
         10,
         8,
         "2024-09-10",
         -150.0,
         "Withdrawal",
         14,
         9,
         "Olivia",
         "Davis",
         "606 Fir St",
         "Boston",
         "MA",
         2101,
         14
        ],
        [
         4,
         2,
         "2024-09-04",
         -50.0,
         "Withdrawal",
         7,
         6,
         "David",
         "Jones",
         "303 Cedar St",
         "Los Angeles",
         "CA",
         90001,
         7
        ],
        [
         4,
         2,
         "2024-09-04",
         -50.0,
         "Withdrawal",
         7,
         5,
         "Sarah",
         "Brown",
         "202 Birch St",
         "New York",
         "NY",
         10001,
         7
        ],
        [
         4,
         2,
         "2024-09-04",
         -50.0,
         "Withdrawal",
         7,
         7,
         "Laura",
         "Garcia",
         "404 Willow St",
         "San Francisco",
         "CA",
         94101,
         7
        ],
        [
         5,
         3,
         "2024-09-05",
         150.0,
         "Deposit",
         10,
         4,
         "Michael",
         "Williams",
         "101 Maple St",
         "Seattle",
         "WA",
         98101,
         10
        ],
        [
         4,
         2,
         "2024-09-04",
         -50.0,
         "Withdrawal",
         10,
         4,
         "Michael",
         "Williams",
         "101 Maple St",
         "Seattle",
         "WA",
         98101,
         10
        ]
       ],
       "datasetInfos": [],
       "dbfsResultPath": null,
       "isJsonSchema": true,
       "metadata": {},
       "overflow": false,
       "plotOptions": {
        "customPlotOptions": {},
        "displayType": "table",
        "pivotAggregation": null,
        "pivotColumns": null,
        "xColumns": null,
        "yColumns": null
       },
       "removedWidgets": [],
       "schema": [
        {
         "metadata": "{}",
         "name": "transaction_id",
         "type": "\"integer\""
        },
        {
         "metadata": "{}",
         "name": "account_id",
         "type": "\"integer\""
        },
        {
         "metadata": "{}",
         "name": "transaction_date",
         "type": "\"date\""
        },
        {
         "metadata": "{}",
         "name": "transaction_amount",
         "type": "\"double\""
        },
        {
         "metadata": "{}",
         "name": "transaction_type",
         "type": "\"string\""
        },
        {
         "metadata": "{}",
         "name": "salted_customer_id",
         "type": "\"integer\""
        },
        {
         "metadata": "{}",
         "name": "customer_id",
         "type": "\"integer\""
        },
        {
         "metadata": "{}",
         "name": "first_name",
         "type": "\"string\""
        },
        {
         "metadata": "{}",
         "name": "last_name",
         "type": "\"string\""
        },
        {
         "metadata": "{}",
         "name": "address",
         "type": "\"string\""
        },
        {
         "metadata": "{}",
         "name": "city",
         "type": "\"string\""
        },
        {
         "metadata": "{}",
         "name": "state",
         "type": "\"string\""
        },
        {
         "metadata": "{}",
         "name": "postal_code",
         "type": "\"integer\""
        },
        {
         "metadata": "{}",
         "name": "salted_customer_id",
         "type": "\"integer\""
        }
       ],
       "type": "table"
      }
     },
     "output_type": "display_data"
    }
   ],
   "source": [
    "# Join Tables Using Salted Keys\n",
    "from pyspark.sql.functions import col, rand\n",
    "\n",
    "# Salt the customers DataFrame\n",
    "salted_customers_df = customers_df.withColumn(\n",
    "    \"salted_customer_id\", \n",
    "    (col(\"customer_id\") + (rand() * 10).cast(\"int\"))\n",
    ")\n",
    "\n",
    "# Salt the transactions DataFrame using the correct column name\n",
    "salted_transactions_repartitioned = transactions_df.withColumn(\n",
    "    \"salted_customer_id\", \n",
    "    (col(\"account_id\") + (rand() * 10).cast(\"int\"))\n",
    ")\n",
    "\n",
    "# Perform the join using the salted_customer_id\n",
    "joined_df = salted_transactions_repartitioned.join(\n",
    "    salted_customers_df, \n",
    "    salted_transactions_repartitioned[\"salted_customer_id\"] == salted_customers_df[\"salted_customer_id\"],\n",
    "    \"inner\"\n",
    ")\n",
    "\n",
    "# Show the results of the join\n",
    "display(joined_df)"
   ]
  },
  {
   "cell_type": "code",
   "execution_count": 0,
   "metadata": {
    "application/vnd.databricks.v1+cell": {
     "cellMetadata": {
      "byteLimit": 2048000,
      "rowLimit": 10000
     },
     "inputWidgets": {},
     "nuid": "2e289ae0-ddd9-42ba-8263-12e1a57bb4a9",
     "showTitle": false,
     "tableResultSettingsMap": {},
     "title": ""
    }
   },
   "outputs": [
    {
     "output_type": "stream",
     "name": "stdout",
     "output_type": "stream",
     "text": [
      "+--------------+----------+----------------+------------------+----------------+------------------+-----------+----------+---------+--------------+-------------+-----+-----------+------------------+\n|transaction_id|account_id|transaction_date|transaction_amount|transaction_type|salted_customer_id|customer_id|first_name|last_name|address       |city         |state|postal_code|salted_customer_id|\n+--------------+----------+----------------+------------------+----------------+------------------+-----------+----------+---------+--------------+-------------+-----+-----------+------------------+\n|9             |7         |2024-09-09      |400.0             |Deposit         |14                |9          |Olivia    |Davis    |606 Fir St    |Boston       |MA   |2101       |14                |\n|5             |3         |2024-09-05      |150.0             |Deposit         |12                |6          |David     |Jones    |303 Cedar St  |Los Angeles  |CA   |90001      |12                |\n|5             |3         |2024-09-05      |150.0             |Deposit         |12                |5          |Sarah     |Brown    |202 Birch St  |New York     |NY   |10001      |12                |\n|1             |1         |2024-09-01      |200.0             |Deposit         |7                 |2          |Jane      |Smith    |456 Oak St    |Chicago      |IL   |60614      |7                 |\n|7             |5         |2024-09-07      |250.0             |Deposit         |5                 |3          |Emily     |Johnson  |789 Pine St   |Dallas       |TX   |75201      |5                 |\n|8             |6         |2024-09-08      |-300.0            |Withdrawal      |11                |7          |Laura     |Garcia   |404 Willow St |San Francisco|CA   |94101      |11                |\n|3             |2         |2024-09-02      |300.0             |Deposit         |10                |8          |James     |Martinez |505 Redwood St|Houston      |TX   |77001      |10                |\n|6             |4         |2024-09-06      |-200.0            |Withdrawal      |6                 |4          |Michael   |Williams |101 Maple St  |Seattle      |WA   |98101      |6                 |\n|9             |7         |2024-09-09      |400.0             |Deposit         |14                |11         |Andy      |Josheny  |123 yulm St   |Chicago      |IL   |627098     |14                |\n|5             |3         |2024-09-05      |150.0             |Deposit         |12                |10         |Daniel    |Rodriguez|707 Spruce St |Philadelphia |PA   |19101      |12                |\n|10            |8         |2024-09-10      |-150.0            |Withdrawal      |14                |9          |Olivia    |Davis    |606 Fir St    |Boston       |MA   |2101       |14                |\n|4             |2         |2024-09-04      |-50.0             |Withdrawal      |7                 |2          |Jane      |Smith    |456 Oak St    |Chicago      |IL   |60614      |7                 |\n|5             |3         |2024-09-05      |150.0             |Deposit         |10                |8          |James     |Martinez |505 Redwood St|Houston      |TX   |77001      |10                |\n|10            |8         |2024-09-10      |-150.0            |Withdrawal      |14                |11         |Andy      |Josheny  |123 yulm St   |Chicago      |IL   |627098     |14                |\n|4             |2         |2024-09-04      |-50.0             |Withdrawal      |10                |8          |James     |Martinez |505 Redwood St|Houston      |TX   |77001      |10                |\n|9             |7         |2024-09-09      |400.0             |Deposit         |14                |9          |Olivia    |Davis    |606 Fir St    |Boston       |MA   |2101       |14                |\n|1             |1         |2024-09-01      |200.0             |Deposit         |7                 |6          |David     |Jones    |303 Cedar St  |Los Angeles  |CA   |90001      |7                 |\n|1             |1         |2024-09-01      |200.0             |Deposit         |7                 |5          |Sarah     |Brown    |202 Birch St  |New York     |NY   |10001      |7                 |\n|6             |4         |2024-09-06      |-200.0            |Withdrawal      |6                 |2          |Jane      |Smith    |456 Oak St    |Chicago      |IL   |60614      |6                 |\n|2             |1         |2024-09-03      |-100.0            |Withdrawal      |9                 |3          |Emily     |Johnson  |789 Pine St   |Dallas       |TX   |75201      |9                 |\n+--------------+----------+----------------+------------------+----------------+------------------+-----------+----------+---------+--------------+-------------+-----+-----------+------------------+\nonly showing top 20 rows\n\n"
     ]
    }
   ],
   "source": [
    "joined_df.show(truncate=False)"
   ]
  },
  {
   "cell_type": "code",
   "execution_count": 0,
   "metadata": {
    "application/vnd.databricks.v1+cell": {
     "cellMetadata": {
      "byteLimit": 2048000,
      "rowLimit": 10000
     },
     "inputWidgets": {},
     "nuid": "50c80b9e-bf54-4511-9ef4-04c97c3d66d8",
     "showTitle": false,
     "tableResultSettingsMap": {},
     "title": ""
    }
   },
   "outputs": [],
   "source": [
    "%python\n",
    "# Set the storage account key\n",
    "spark.conf.set(\"fs.azure.account.key.mystoragecase2.dfs.core.windows.net\", \"9sj4H6ECOyNfakffX828qy5kG0ERuqiAwEAWks6wotbyDhh7=========================================\")\n",
    "\n",
    "# Remove duplicate columns\n",
    "joined_df = joined_df.toDF(\n",
    "    *(col if col not in joined_df.columns[:i] else f\"{col}_duplicate\" for i, col in enumerate(joined_df.columns))\n",
    ")\n",
    "\n",
    "# Define the path for gold container\n",
    "gold_delta = \"abfss://gold@mystoragecase2.dfs.core.windows.net/delta/gold_delta\"\n",
    "\n",
    "# Save the DataFrame in Delta format, append if it exists\n",
    "joined_df.write.format(\"delta\").mode(\"append\").save(gold_delta)"
   ]
  }
 ],
 "metadata": {
  "application/vnd.databricks.v1+notebook": {
   "dashboards": [],
   "environmentMetadata": {
    "base_environment": "",
    "client": "1"
   },
   "language": "python",
   "notebookMetadata": {
    "pythonIndentUnit": 4
   },
   "notebookName": "Processing Final",
   "widgets": {}
  },
  "language_info": {
   "name": "python"
  }
 },
 "nbformat": 4,
 "nbformat_minor": 0
}
